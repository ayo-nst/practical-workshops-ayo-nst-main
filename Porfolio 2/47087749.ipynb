{
 "cells": [
  {
   "cell_type": "markdown",
   "id": "f4901fc0",
   "metadata": {},
   "source": [
    "## Analysis of Epinions Dataset Part 2"
   ]
  },
  {
   "cell_type": "markdown",
   "id": "4a5efeaa",
   "metadata": {},
   "source": [
    "The goal of the second analysis task is to train linear regression models to predict users' ratings towards items. This involves a standard Data Science workflow: exploring data, building models, making predictions, and evaluating results. In this task, we will explore the impacts of feature selections and different sizes of training/testing data on the model performance. We will use another cleaned Epinions sub-dataset that is different from the one in Portfolio 1. "
   ]
  },
  {
   "cell_type": "markdown",
   "id": "70fcc534",
   "metadata": {},
   "source": [
    "### Import Cleaned Epinions Dataset\n",
    "The csv file named 'Epinions_cleaned_data_portfolio_2.csv'is provided. Please import the csv file (i.e., 'Epinions_cleaned_data_portfolio_2') and print out its total length."
   ]
  },
  {
   "cell_type": "code",
   "execution_count": 57,
   "id": "aa9ca4e0",
   "metadata": {},
   "outputs": [],
   "source": [
    "import pandas as pd\n",
    "import numpy as np\n",
    "from sklearn.model_selection import train_test_split\n",
    "from sklearn import linear_model\n",
    "\n",
    "from sklearn.metrics import mean_squared_error\n",
    "from sklearn.metrics import r2_score\n",
    "\n",
    "import seaborn as sns\n",
    "import matplotlib.pylab as plt\n",
    "%matplotlib inline"
   ]
  },
  {
   "cell_type": "code",
   "execution_count": 58,
   "id": "909dc9c3",
   "metadata": {},
   "outputs": [],
   "source": [
    "dataframe = pd.read_csv(\"Epinions_cleaned_data_portfolio_2.csv\")"
   ]
  },
  {
   "cell_type": "markdown",
   "id": "6b127cc7",
   "metadata": {},
   "source": [
    "### Explore the Dataset\n",
    "\n",
    "* Use the methods, i.e., `head()` and `info()`, to have a rough picture about the data, e.g., how many columns, and the data types of each column. \n",
    "* As our goal is to predict ratings given other columns, please get the correlations between helpfulness/gender/category/review and rating by using the `corr()` method.\n",
    "* To get the correlations between different features, you may need to first convert the categorical features (i.e., gender, category and review) into numerial values. For doing this, you may need to import `OrdinalEncoder` from `sklearn.preprocessing` (refer to the useful exmaples [here](https://pbpython.com/categorical-encoding.html))\n",
    "* Please provide ___necessary explanations/analysis___ on the correlations, and figure out which are the ___most___ and ___least___ corrleated features regarding rating (positive or negative). Try to ___discuss___ how the correlation will affect the final prediction results, if we use these features to train a regression model for rating prediction. In what follows, we will conduct experiments to verify your hypothesis."
   ]
  },
  {
   "cell_type": "code",
   "execution_count": 59,
   "id": "3d9a075f",
   "metadata": {
    "scrolled": true
   },
   "outputs": [
    {
     "data": {
      "text/html": [
       "<div>\n",
       "<style scoped>\n",
       "    .dataframe tbody tr th:only-of-type {\n",
       "        vertical-align: middle;\n",
       "    }\n",
       "\n",
       "    .dataframe tbody tr th {\n",
       "        vertical-align: top;\n",
       "    }\n",
       "\n",
       "    .dataframe thead th {\n",
       "        text-align: right;\n",
       "    }\n",
       "</style>\n",
       "<table border=\"1\" class=\"dataframe\">\n",
       "  <thead>\n",
       "    <tr style=\"text-align: right;\">\n",
       "      <th></th>\n",
       "      <th>userId</th>\n",
       "      <th>timestamp</th>\n",
       "      <th>review</th>\n",
       "      <th>item</th>\n",
       "      <th>rating</th>\n",
       "      <th>helpfulness</th>\n",
       "      <th>gender</th>\n",
       "      <th>category</th>\n",
       "    </tr>\n",
       "  </thead>\n",
       "  <tbody>\n",
       "    <tr>\n",
       "      <th>0</th>\n",
       "      <td>4259</td>\n",
       "      <td>11900</td>\n",
       "      <td>Finally, Something for (Relatively) Nothing</td>\n",
       "      <td>MyPoints.com</td>\n",
       "      <td>4.0</td>\n",
       "      <td>4.0</td>\n",
       "      <td>F</td>\n",
       "      <td>Online Stores &amp; Services</td>\n",
       "    </tr>\n",
       "    <tr>\n",
       "      <th>1</th>\n",
       "      <td>4259</td>\n",
       "      <td>12000</td>\n",
       "      <td>Shocking!</td>\n",
       "      <td>Sixth Sense</td>\n",
       "      <td>5.0</td>\n",
       "      <td>4.0</td>\n",
       "      <td>F</td>\n",
       "      <td>Movies</td>\n",
       "    </tr>\n",
       "    <tr>\n",
       "      <th>2</th>\n",
       "      <td>4259</td>\n",
       "      <td>12000</td>\n",
       "      <td>Simply Shaggadelic!</td>\n",
       "      <td>Austin Powers: The Spy Who Shagged Me</td>\n",
       "      <td>5.0</td>\n",
       "      <td>4.0</td>\n",
       "      <td>F</td>\n",
       "      <td>Movies</td>\n",
       "    </tr>\n",
       "    <tr>\n",
       "      <th>3</th>\n",
       "      <td>4259</td>\n",
       "      <td>12000</td>\n",
       "      <td>Better Than The First!</td>\n",
       "      <td>Toy Story 2</td>\n",
       "      <td>5.0</td>\n",
       "      <td>3.0</td>\n",
       "      <td>F</td>\n",
       "      <td>Movies</td>\n",
       "    </tr>\n",
       "    <tr>\n",
       "      <th>4</th>\n",
       "      <td>4259</td>\n",
       "      <td>12000</td>\n",
       "      <td>Blair Witch made me appreciate this</td>\n",
       "      <td>Star Wars Episode I: The Phantom Menace</td>\n",
       "      <td>2.0</td>\n",
       "      <td>4.0</td>\n",
       "      <td>F</td>\n",
       "      <td>Movies</td>\n",
       "    </tr>\n",
       "  </tbody>\n",
       "</table>\n",
       "</div>"
      ],
      "text/plain": [
       "   userId  timestamp                                       review  \\\n",
       "0    4259      11900  Finally, Something for (Relatively) Nothing   \n",
       "1    4259      12000                                    Shocking!   \n",
       "2    4259      12000                          Simply Shaggadelic!   \n",
       "3    4259      12000                       Better Than The First!   \n",
       "4    4259      12000          Blair Witch made me appreciate this   \n",
       "\n",
       "                                      item  rating  helpfulness gender  \\\n",
       "0                             MyPoints.com     4.0          4.0      F   \n",
       "1                              Sixth Sense     5.0          4.0      F   \n",
       "2    Austin Powers: The Spy Who Shagged Me     5.0          4.0      F   \n",
       "3                              Toy Story 2     5.0          3.0      F   \n",
       "4  Star Wars Episode I: The Phantom Menace     2.0          4.0      F   \n",
       "\n",
       "                   category  \n",
       "0  Online Stores & Services  \n",
       "1                    Movies  \n",
       "2                    Movies  \n",
       "3                    Movies  \n",
       "4                    Movies  "
      ]
     },
     "execution_count": 59,
     "metadata": {},
     "output_type": "execute_result"
    }
   ],
   "source": [
    "dataframe.head()"
   ]
  },
  {
   "cell_type": "code",
   "execution_count": 60,
   "id": "33e5d96b",
   "metadata": {},
   "outputs": [
    {
     "data": {
      "text/plain": [
       "OrdinalEncoder(dtype=<class 'int'>)"
      ]
     },
     "execution_count": 60,
     "metadata": {},
     "output_type": "execute_result"
    }
   ],
   "source": [
    "from sklearn.preprocessing import OrdinalEncoder \n",
    "\n",
    "ord_enc = OrdinalEncoder(dtype = int)\n",
    "ord_enc"
   ]
  },
  {
   "cell_type": "code",
   "execution_count": 61,
   "id": "741b0d21",
   "metadata": {},
   "outputs": [
    {
     "data": {
      "text/plain": [
       "['userId',\n",
       " 'timestamp',\n",
       " 'review',\n",
       " 'item',\n",
       " 'rating',\n",
       " 'helpfulness',\n",
       " 'gender',\n",
       " 'category']"
      ]
     },
     "execution_count": 61,
     "metadata": {},
     "output_type": "execute_result"
    }
   ],
   "source": [
    "dataframe.columns.tolist()"
   ]
  },
  {
   "cell_type": "code",
   "execution_count": 62,
   "id": "82fef9a2",
   "metadata": {},
   "outputs": [
    {
     "data": {
      "text/plain": [
       "['userId',\n",
       " 'timestamp',\n",
       " 'review',\n",
       " 'item',\n",
       " 'rating',\n",
       " 'helpfulness',\n",
       " 'gender',\n",
       " 'category',\n",
       " 'category_code',\n",
       " 'gender_code',\n",
       " 'review_code']"
      ]
     },
     "execution_count": 62,
     "metadata": {},
     "output_type": "execute_result"
    }
   ],
   "source": [
    "dataframe[\"category_code\"] = ord_enc.fit_transform(dataframe[[\"category\"]])\n",
    "dataframe[\"gender_code\"] = ord_enc.fit_transform(dataframe[[\"gender\"]])\n",
    "dataframe[\"review_code\"] = ord_enc.fit_transform(dataframe[[\"review\"]])\n",
    "dataframe.columns.tolist()"
   ]
  },
  {
   "cell_type": "code",
   "execution_count": 63,
   "id": "4712487e",
   "metadata": {},
   "outputs": [
    {
     "data": {
      "text/plain": [
       "-0.14057638180137574"
      ]
     },
     "execution_count": 63,
     "metadata": {},
     "output_type": "execute_result"
    }
   ],
   "source": [
    "corr_category = dataframe[\"category_code\"].corr(dataframe[\"rating\"])\n",
    "corr_category"
   ]
  },
  {
   "cell_type": "code",
   "execution_count": 64,
   "id": "5e0ae548",
   "metadata": {},
   "outputs": [
    {
     "data": {
      "text/plain": [
       "0.018105039011507486"
      ]
     },
     "execution_count": 64,
     "metadata": {},
     "output_type": "execute_result"
    }
   ],
   "source": [
    "corr_gender = dataframe[\"gender_code\"].corr(dataframe[\"rating\"])\n",
    "corr_gender"
   ]
  },
  {
   "cell_type": "code",
   "execution_count": 65,
   "id": "5adc3066",
   "metadata": {},
   "outputs": [
    {
     "data": {
      "text/plain": [
       "-0.062071079458250855"
      ]
     },
     "execution_count": 65,
     "metadata": {},
     "output_type": "execute_result"
    }
   ],
   "source": [
    "corr_review = dataframe[\"review_code\"].corr(dataframe[\"rating\"])\n",
    "corr_review"
   ]
  },
  {
   "cell_type": "code",
   "execution_count": 66,
   "id": "c508db72",
   "metadata": {},
   "outputs": [
    {
     "data": {
      "text/plain": [
       "-0.016832209821488652"
      ]
     },
     "execution_count": 66,
     "metadata": {},
     "output_type": "execute_result"
    }
   ],
   "source": [
    "corr_helpfulness = dataframe[\"helpfulness\"].corr(dataframe[\"rating\"])\n",
    "corr_helpfulness"
   ]
  },
  {
   "cell_type": "markdown",
   "id": "47fea7d4",
   "metadata": {},
   "source": [
    "1. rating is relatively more correlated with the category and review;\n",
    "2. rating is relatively less correlated with the helpfulness and gender;\n",
    "3. overall, the rating is not highly correlated with the four features, as the correlation values are quite small"
   ]
  },
  {
   "cell_type": "markdown",
   "id": "5856f655",
   "metadata": {},
   "source": [
    "### Split Training and Testing Data\n",
    "* Machine learning models are trained to help make predictions for the future. Normally, we need to randomly split the dataset into training and testing sets, where we use the training set to train the model, and then leverage the well-trained model to make predictions on the testing set. \n",
    "* To further investigate whether the size of the training/testing data affects the model performance, please random split the data into training and testing sets with different sizes:\n",
    "    * Case 1: training data containing 10% of the entire data;\n",
    "    * Case 2: training data containing 90% of the entire data. \n",
    "* Print the shape of training and testing sets in the two cases. "
   ]
  },
  {
   "cell_type": "code",
   "execution_count": 67,
   "id": "5a05bb9d",
   "metadata": {},
   "outputs": [],
   "source": [
    "train_case1, test_case1 = train_test_split(dataframe, test_size = 0.9, random_state = 142)"
   ]
  },
  {
   "cell_type": "code",
   "execution_count": 68,
   "id": "18c8b6e8",
   "metadata": {},
   "outputs": [
    {
     "data": {
      "text/plain": [
       "(289, 11)"
      ]
     },
     "execution_count": 68,
     "metadata": {},
     "output_type": "execute_result"
    }
   ],
   "source": [
    "train_case1.shape"
   ]
  },
  {
   "cell_type": "code",
   "execution_count": 69,
   "id": "69f3a4ef",
   "metadata": {},
   "outputs": [
    {
     "data": {
      "text/plain": [
       "(2610, 11)"
      ]
     },
     "execution_count": 69,
     "metadata": {},
     "output_type": "execute_result"
    }
   ],
   "source": [
    "test_case1.shape"
   ]
  },
  {
   "cell_type": "code",
   "execution_count": 70,
   "id": "a6a93396",
   "metadata": {},
   "outputs": [],
   "source": [
    "#Case 2\n",
    "train_case2, test_case2 = train_test_split(dataframe, test_size = 0.9, random_state = 142)"
   ]
  },
  {
   "cell_type": "code",
   "execution_count": 71,
   "id": "140e76f8",
   "metadata": {},
   "outputs": [
    {
     "data": {
      "text/plain": [
       "(289, 11)"
      ]
     },
     "execution_count": 71,
     "metadata": {},
     "output_type": "execute_result"
    }
   ],
   "source": [
    "train_case2.shape"
   ]
  },
  {
   "cell_type": "code",
   "execution_count": 72,
   "id": "f44fa204",
   "metadata": {},
   "outputs": [
    {
     "data": {
      "text/plain": [
       "(2610, 11)"
      ]
     },
     "execution_count": 72,
     "metadata": {},
     "output_type": "execute_result"
    }
   ],
   "source": [
    "test_case2.shape"
   ]
  },
  {
   "cell_type": "markdown",
   "id": "2983a46d",
   "metadata": {},
   "source": [
    "### Train Linear Regression Models with Feature Selection under Cases 1 & 2\n",
    "* When training a machine learning model for prediction, we may need to select the most important/correlated input features for more accurate results. \n",
    "* To investigate whether feature selection affects the model performance, please select __two most correlated features and two least correlated features__ regarding rating, respectively. \n",
    "* Train __four__ linear regression models by following the conditions:\n",
    "    - (model-a) using the training/testing data in __case 1__ with __two most__ correlated input features\n",
    "    - (model-b) using the training/testing data in __case 1__ with __two least__ correlated input features\n",
    "    - (model-c) using the training/testing data in __case 2__ with __two most__ correlated input features\n",
    "    - (model-d) using the training/testing data in __case 2__ with __two least__ correlated input features\n",
    "* By doing this, we can verify the impacts of the size of traing/testing data on the model performance via comparing model-a and model-c (or model-b and model-d); meanwhile the impacts of feature selection can be validated via comparing model-a and model-b (or model-c and model-d).    "
   ]
  },
  {
   "cell_type": "code",
   "execution_count": 73,
   "id": "235f204d",
   "metadata": {},
   "outputs": [
    {
     "data": {
      "text/plain": [
       "LinearRegression()"
      ]
     },
     "execution_count": 73,
     "metadata": {},
     "output_type": "execute_result"
    }
   ],
   "source": [
    "reg_1M = linear_model.LinearRegression()\n",
    "reg_1M"
   ]
  },
  {
   "cell_type": "code",
   "execution_count": 74,
   "id": "d8923aa2",
   "metadata": {},
   "outputs": [],
   "source": [
    "X_train_1M = train_case1[[\"category_code\", \"review_code\"]]\n",
    "y_train_1M = train_case1[\"rating\"]\n",
    "\n",
    "X_test_1M = test_case1[[\"category_code\", \"review_code\" ]]\n",
    "y_test_1M = test_case1[\"rating\"]"
   ]
  },
  {
   "cell_type": "code",
   "execution_count": 75,
   "id": "aad037e2",
   "metadata": {},
   "outputs": [
    {
     "data": {
      "text/plain": [
       "LinearRegression()"
      ]
     },
     "execution_count": 75,
     "metadata": {},
     "output_type": "execute_result"
    }
   ],
   "source": [
    "reg_1M.fit(X_train_1M, y_train_1M)"
   ]
  },
  {
   "cell_type": "code",
   "execution_count": 76,
   "id": "f86596d9",
   "metadata": {},
   "outputs": [
    {
     "data": {
      "text/plain": [
       "LinearRegression()"
      ]
     },
     "execution_count": 76,
     "metadata": {},
     "output_type": "execute_result"
    }
   ],
   "source": [
    "reg_1L = linear_model.LinearRegression()\n",
    "reg_1L"
   ]
  },
  {
   "cell_type": "code",
   "execution_count": 77,
   "id": "7cc24c88",
   "metadata": {},
   "outputs": [],
   "source": [
    "X_train_1L = train_case1[[\"gender_code\", \"helpfulness\"]]\n",
    "y_train_1L = train_case1[\"rating\"]\n",
    "\n",
    "X_test_1L = test_case1[[\"gender_code\", \"helpfulness\" ]]\n",
    "y_test_1L = test_case1[\"rating\"]"
   ]
  },
  {
   "cell_type": "code",
   "execution_count": 78,
   "id": "eb31e683",
   "metadata": {},
   "outputs": [
    {
     "data": {
      "text/plain": [
       "LinearRegression()"
      ]
     },
     "execution_count": 78,
     "metadata": {},
     "output_type": "execute_result"
    }
   ],
   "source": [
    "reg_1L.fit(X_train_1L, y_train_1L)"
   ]
  },
  {
   "cell_type": "code",
   "execution_count": 79,
   "id": "d9d2551c",
   "metadata": {
    "scrolled": true
   },
   "outputs": [
    {
     "data": {
      "text/plain": [
       "LinearRegression()"
      ]
     },
     "execution_count": 79,
     "metadata": {},
     "output_type": "execute_result"
    }
   ],
   "source": [
    "reg_2M = linear_model.LinearRegression()\n",
    "reg_2M"
   ]
  },
  {
   "cell_type": "code",
   "execution_count": 80,
   "id": "4024f836",
   "metadata": {},
   "outputs": [],
   "source": [
    "X_train_2M = train_case1[[\"category_code\", \"review_code\"]]\n",
    "y_train_2M = train_case1[\"rating\"]\n",
    "\n",
    "X_test_2M = test_case1[[\"category_code\", \"review_code\" ]]\n",
    "y_test_2M = test_case1[\"rating\"]"
   ]
  },
  {
   "cell_type": "code",
   "execution_count": 81,
   "id": "d1d33fb1",
   "metadata": {},
   "outputs": [
    {
     "data": {
      "text/plain": [
       "LinearRegression()"
      ]
     },
     "execution_count": 81,
     "metadata": {},
     "output_type": "execute_result"
    }
   ],
   "source": [
    "reg_2M.fit(X_train_2M, y_train_2M)"
   ]
  },
  {
   "cell_type": "code",
   "execution_count": 82,
   "id": "1317ce24",
   "metadata": {},
   "outputs": [
    {
     "data": {
      "text/plain": [
       "LinearRegression()"
      ]
     },
     "execution_count": 82,
     "metadata": {},
     "output_type": "execute_result"
    }
   ],
   "source": [
    "reg_2L = linear_model.LinearRegression()\n",
    "reg_2L"
   ]
  },
  {
   "cell_type": "code",
   "execution_count": 83,
   "id": "446b19b4",
   "metadata": {},
   "outputs": [],
   "source": [
    "X_train_2L = train_case1[[\"gender_code\", \"helpfulness\"]]\n",
    "y_train_2L = train_case1[\"rating\"]\n",
    "\n",
    "X_test_2L = test_case1[[\"gender_code\", \"helpfulness\" ]]\n",
    "y_test_2L = test_case1[\"rating\"]"
   ]
  },
  {
   "cell_type": "code",
   "execution_count": 84,
   "id": "e3104ed1",
   "metadata": {},
   "outputs": [
    {
     "data": {
      "text/plain": [
       "LinearRegression()"
      ]
     },
     "execution_count": 84,
     "metadata": {},
     "output_type": "execute_result"
    }
   ],
   "source": [
    "reg_2L.fit(X_train_2L, y_train_2L)"
   ]
  },
  {
   "cell_type": "markdown",
   "id": "799052f8",
   "metadata": {},
   "source": [
    "### Evaluate Models\n",
    "* Evaluate the performance of the four models with two metrics, including MSE and Root MSE\n",
    "* Print the results of the four models regarding the two metrics"
   ]
  },
  {
   "cell_type": "code",
   "execution_count": 92,
   "id": "441c9f7e",
   "metadata": {},
   "outputs": [
    {
     "data": {
      "text/plain": [
       "array([4.18029442, 3.84895812, 3.46675839, ..., 3.79832263, 3.69740316,\n",
       "       4.14209896])"
      ]
     },
     "execution_count": 92,
     "metadata": {},
     "output_type": "execute_result"
    }
   ],
   "source": [
    "predicted_1M = reg_1M.predict(X_test_1M)\n",
    "predicted_1M"
   ]
  },
  {
   "cell_type": "code",
   "execution_count": 93,
   "id": "68860b82",
   "metadata": {},
   "outputs": [
    {
     "name": "stdout",
     "output_type": "stream",
     "text": [
      "reg_1M MSE: 1.7661060021271924\n",
      "reg_1M Root MSE: 1.3289492097620557\n"
     ]
    }
   ],
   "source": [
    "predicted_1M = reg_1M.predict(X_test_1M)\n",
    "mse_1M = mean_squared_error(predicted_1M, y_test_1M)\n",
    "rmse_1M = np.sqrt(mse_1M)\n",
    "\n",
    "print(\"reg_1M MSE:\", mse_1M)\n",
    "print(\"reg_1M Root MSE:\", rmse_1M)"
   ]
  },
  {
   "cell_type": "code",
   "execution_count": 94,
   "id": "f6acabd2",
   "metadata": {},
   "outputs": [
    {
     "name": "stdout",
     "output_type": "stream",
     "text": [
      "reg_2ML MSE: 1.8142164061736321\n",
      "reg_2L Root MSE: 1.3469285081895148\n"
     ]
    }
   ],
   "source": [
    "predicted_2L = reg_2L.predict(X_test_2L)\n",
    "mse_2L = mean_squared_error(predicted_2L, y_test_2L)\n",
    "rmse_2L = np.sqrt(mse_2L)\n",
    "\n",
    "print(\"reg_2ML MSE:\", mse_2L)\n",
    "print(\"reg_2L Root MSE:\", rmse_2L)"
   ]
  },
  {
   "cell_type": "markdown",
   "id": "89a92930",
   "metadata": {},
   "source": [
    "### Visualize, Compare and Analyze the Results\n",
    "* Visulize the results, and perform ___insightful analysis___ on the obtained results. For better visualization, you may need to carefully set the scale for the y-axis.\n",
    "* Normally, the model trained with most correlated features and more training data will get better results. Do you obtain the similar observations? If not, please ___explain the possible reasons___."
   ]
  },
  {
   "cell_type": "code",
   "execution_count": 95,
   "id": "d19b453b",
   "metadata": {},
   "outputs": [
    {
     "data": {
      "text/html": [
       "<div>\n",
       "<style scoped>\n",
       "    .dataframe tbody tr th:only-of-type {\n",
       "        vertical-align: middle;\n",
       "    }\n",
       "\n",
       "    .dataframe tbody tr th {\n",
       "        vertical-align: top;\n",
       "    }\n",
       "\n",
       "    .dataframe thead th {\n",
       "        text-align: right;\n",
       "    }\n",
       "</style>\n",
       "<table border=\"1\" class=\"dataframe\">\n",
       "  <thead>\n",
       "    <tr style=\"text-align: right;\">\n",
       "      <th></th>\n",
       "      <th>mse</th>\n",
       "    </tr>\n",
       "  </thead>\n",
       "  <tbody>\n",
       "    <tr>\n",
       "      <th>reg_1M</th>\n",
       "      <td>1.766106</td>\n",
       "    </tr>\n",
       "    <tr>\n",
       "      <th>reg_1L</th>\n",
       "      <td>1.766106</td>\n",
       "    </tr>\n",
       "    <tr>\n",
       "      <th>reg_2M</th>\n",
       "      <td>1.766106</td>\n",
       "    </tr>\n",
       "    <tr>\n",
       "      <th>reg_2L</th>\n",
       "      <td>1.814216</td>\n",
       "    </tr>\n",
       "  </tbody>\n",
       "</table>\n",
       "</div>"
      ],
      "text/plain": [
       "             mse\n",
       "reg_1M  1.766106\n",
       "reg_1L  1.766106\n",
       "reg_2M  1.766106\n",
       "reg_2L  1.814216"
      ]
     },
     "execution_count": 95,
     "metadata": {},
     "output_type": "execute_result"
    }
   ],
   "source": [
    "dataframe_mse = pd.DataFrame({\"mse\": [mse_1M, mse_1L, mse_2M, mse_2L]},\n",
    "                index = [\"reg_1M\", \"reg_1L\", \"reg_2M\", \"reg_2L\"])\n",
    "dataframe_mse"
   ]
  },
  {
   "cell_type": "code",
   "execution_count": 101,
   "id": "8444242d",
   "metadata": {
    "scrolled": true
   },
   "outputs": [
    {
     "data": {
      "text/plain": [
       "<BarContainer object of 4 artists>"
      ]
     },
     "execution_count": 101,
     "metadata": {},
     "output_type": "execute_result"
    },
    {
     "data": {
      "image/png": "[encoded data removed]",
      "text/plain": [
       "<Figure size 432x288 with 1 Axes>"
      ]
     },
     "metadata": {
      "needs_background": "light"
     },
     "output_type": "display_data"
    }
   ],
   "source": [
    "plt.ylim(1.6, 1.9)\n",
    "plt.xlabel(\"different models\", size = 15)\n",
    "plt.ylabel(\"MSE\", size = 15)\n",
    "plt.title(\"Comparison on MSE\", size = 15)\n",
    "\n",
    "plt.bar(data = dataframe_mse, height = \"mse\", x = [\"reg_1M\", \"reg_1L\", \"reg_2M\", \"reg_2L\"], color = \"magenta\")"
   ]
  },
  {
   "cell_type": "markdown",
   "id": "4e54811e",
   "metadata": {},
   "source": []
  },
  {
   "cell_type": "code",
   "execution_count": 103,
   "id": "47e2a878",
   "metadata": {},
   "outputs": [
    {
     "data": {
      "text/html": [
       "<div>\n",
       "<style scoped>\n",
       "    .dataframe tbody tr th:only-of-type {\n",
       "        vertical-align: middle;\n",
       "    }\n",
       "\n",
       "    .dataframe tbody tr th {\n",
       "        vertical-align: top;\n",
       "    }\n",
       "\n",
       "    .dataframe thead th {\n",
       "        text-align: right;\n",
       "    }\n",
       "</style>\n",
       "<table border=\"1\" class=\"dataframe\">\n",
       "  <thead>\n",
       "    <tr style=\"text-align: right;\">\n",
       "      <th></th>\n",
       "      <th>rmse</th>\n",
       "    </tr>\n",
       "  </thead>\n",
       "  <tbody>\n",
       "    <tr>\n",
       "      <th>reg_1M</th>\n",
       "      <td>1.328949</td>\n",
       "    </tr>\n",
       "    <tr>\n",
       "      <th>reg_1L</th>\n",
       "      <td>1.328949</td>\n",
       "    </tr>\n",
       "    <tr>\n",
       "      <th>reg_2M</th>\n",
       "      <td>1.328949</td>\n",
       "    </tr>\n",
       "    <tr>\n",
       "      <th>reg_2L</th>\n",
       "      <td>1.346929</td>\n",
       "    </tr>\n",
       "  </tbody>\n",
       "</table>\n",
       "</div>"
      ],
      "text/plain": [
       "            rmse\n",
       "reg_1M  1.328949\n",
       "reg_1L  1.328949\n",
       "reg_2M  1.328949\n",
       "reg_2L  1.346929"
      ]
     },
     "execution_count": 103,
     "metadata": {},
     "output_type": "execute_result"
    }
   ],
   "source": [
    "dataframe_rmse = pd.DataFrame({\"rmse\": [rmse_1M, rmse_1L, rmse_2M, rmse_2L]}, index = [\"reg_1M\", \"reg_1L\", \"reg_2M\", \"reg_2L\"])\n",
    "                               \n",
    "dataframe_rmse\n",
    "                               "
   ]
  },
  {
   "cell_type": "code",
   "execution_count": 107,
   "id": "1280c326",
   "metadata": {},
   "outputs": [
    {
     "data": {
      "text/plain": [
       "<BarContainer object of 4 artists>"
      ]
     },
     "execution_count": 107,
     "metadata": {},
     "output_type": "execute_result"
    },
    {
     "data": {
      "image/png": "[encoded data removed]",
      "text/plain": [
       "<Figure size 432x288 with 1 Axes>"
      ]
     },
     "metadata": {
      "needs_background": "light"
     },
     "output_type": "display_data"
    }
   ],
   "source": [
    "plt.ylim(1.3, 1.4)\n",
    "plt.xlabel(\"different models\", size = 15)\n",
    "plt.ylabel(\"RMSE\", size = 15)\n",
    "\n",
    "plt.bar(data = dataframe_rmse, height = \"rmse\", x = [\"reg_1M\", \"reg_1L\", \"reg_2M\", \"reg_2L\"], color = \"cyan\")"
   ]
  },
  {
   "cell_type": "code",
   "execution_count": null,
   "id": "5e95e7c5",
   "metadata": {},
   "outputs": [],
   "source": []
  }
 ],
 "metadata": {
  "kernelspec": {
   "display_name": "Python 3 (ipykernel)",
   "language": "python",
   "name": "python3"
  },
  "language_info": {
   "codemirror_mode": {
    "name": "ipython",
    "version": 3
   },
   "file_extension": ".py",
   "mimetype": "text/x-python",
   "name": "python",
   "nbconvert_exporter": "python",
   "pygments_lexer": "ipython3",
   "version": "3.9.12"
  }
 },
 "nbformat": 4,
 "nbformat_minor": 5
}

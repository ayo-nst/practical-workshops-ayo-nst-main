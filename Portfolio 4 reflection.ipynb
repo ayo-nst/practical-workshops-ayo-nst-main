{
 "cells": [
  {
   "attachments": {},
   "cell_type": "markdown",
   "id": "d38ed095",
   "metadata": {},
   "source": [
    "The process of learning and applying Python for the means of data analysis and visualisation has been a very positive linear growth. I have not only learnt more about python and how to code to an amateur level, but further use those skills In the world of data analysis to analyse complex data sets and project them in a way where it it clear to read and understand the data. This compared to the beginning of the semester and first attending the practical lessons where I had no idea about coding python let alone using it for data analysis, has seen a significant growth and I have gained more knowledge and skills. This is also very owing to my tutor, Xiaochi Liu, who was not only amazing and very helpful, knowledgeable and understanding, but also very patient and always helped us with an extremely positive attitude which made it easier for us to learn and pick up difficult concepts faster. With the knowledge I have acquired I would like, to in the future, peruse becoming a data analyst and aid businesses or companies by collecting, processing and analysing data flow in a timely and accurate manner to discover information useful for decision making. I can achieve this by creating and managing data structures quickly, and merging, pivoting and slicing tables to create new views and perspectives on existing sets. \n",
    "\n",
    "Whereas for portfolio 4, I decided to chose a data set on cancer to investigate the various causes and further research the effectiveness of cancer prediction methodologies for males and females. Although I was driven by a personal factor, another reason why I chose cancer was because not only does it have a significantly high mortality rate both worldwide and in Australia, but often how much it goes undetected and undiagnosed till it's in it's late unrecoverable stages. Cancer can often go undetected for 10 or more years and that’s when it reaches it's fourth and final stage. However, if detected before it reaches that stage, there is a higher success rate for eradicating it from an individual's system. This can be seen on the cancer council website where it states in the 1980s the survival rate of cancer was less than 50%. Compared to present times, almost 7 out of 10 Australians will survive for at least five years after a cancer diagnosis and in some cancer's the survival rate is as high as 90%. However, this is only possible If the individual notices abnormalities within themselves at an early stage that may present itself externally or internally, and then takes the necessary procedures and get's it examined. \n",
    "\n",
    "In order to identity the problem of late diagnosis and to potentially eradicate it, I have analysed the data and listed ways where an individual can not only detect it early, but also the contributing factors that lead to cancer. For example, some early indications include yellow fingers, anxiety, coughing and shortness of breath, and some contributing factors include alcohol consumption, peer pressure and smoking. The reason I have chosen the specific models in my portfolio is because they aid in visualising the data In a manner that makes it easily read and understandable. For example, in my data correlation table is shows the abundance of the different indicators and contributor of cancer and in my pie chart it indicates the higher prevalence of cancer in men compared to woman, with cancer affecting 53.7% of men and woman 46.3%. Furthermore, the use of bar graphs with the various indicating  and contributing factors in males and females sheds light on how prone the two genders are to the factors. Furthermore, the smoking bar graph indicates how men are more likely to develop cancer through smoking than females are, however, for anxiety and peer pressure they both have equal rates of approximately 155. Finally, the use of a heatmap makes the volume of the data easily visualisable and assists the viewers towards areas on data visualisation that matter most. The key indicates boxes whose colours are lighter have a higher prevalence and the boxes which are darker have a lower prevalence. For example, getting yellow fingers linked with anxiety has a higher prevalence of 0.57 which Is closer to 1.0 and yellow fingers to alcohol consumption has a lower prevalence of -0.29. \n",
    "\n",
    "As seen by the various models In my portfolio, a couple assumptions were met with conclusions. The first of which was men are more likely to develop cancer than woman and that was proven by the pie chart that shows men are at a higher risk of developing cancer. Another assumption that was met was men were at a higher risk of developing cancer as a result of their unhealthy and irregular habits. This can be seen through the bar graphs which clearly indicates men are heavier smokers and drinkers than woman, and they succumb to peer pressure more easily. Therefore, the results obtained from this study are consistent with my intuitive expectations and the conclusions drawn from them further prove my assumptions."
   ]
  }
 ],
 "metadata": {
  "kernelspec": {
   "display_name": "Python 3 (ipykernel)",
   "language": "python",
   "name": "python3"
  },
  "language_info": {
   "codemirror_mode": {
    "name": "ipython",
    "version": 3
   },
   "file_extension": ".py",
   "mimetype": "text/x-python",
   "name": "python",
   "nbconvert_exporter": "python",
   "pygments_lexer": "ipython3",
   "version": "3.9.12"
  }
 },
 "nbformat": 4,
 "nbformat_minor": 5
}
